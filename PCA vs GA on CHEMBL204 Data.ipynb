{
  "nbformat": 4,
  "nbformat_minor": 0,
  "metadata": {
    "colab": {
      "name": "FA17-BSE-064_Assignment03.ipynb",
      "provenance": [],
      "collapsed_sections": []
    },
    "kernelspec": {
      "name": "python3",
      "display_name": "Python 3"
    },
    "language_info": {
      "name": "python"
    },
    "accelerator": "GPU"
  },
  "cells": [
    {
      "cell_type": "code",
      "metadata": {
        "colab": {
          "base_uri": "https://localhost:8080/"
        },
        "id": "If4dkFGoUGIK",
        "outputId": "c895d471-d00e-45b2-c308-583ff5e3184d"
      },
      "source": [
        "from google.colab import drive\n",
        "drive.mount('/content/drive')"
      ],
      "execution_count": 1,
      "outputs": [
        {
          "output_type": "stream",
          "text": [
            "Mounted at /content/drive\n"
          ],
          "name": "stdout"
        }
      ]
    },
    {
      "cell_type": "markdown",
      "metadata": {
        "id": "0392OdJXPXXY"
      },
      "source": [
        "## Conducting necessary imports"
      ]
    },
    {
      "cell_type": "code",
      "metadata": {
        "id": "c-ck2EZ8UMlg"
      },
      "source": [
        "import numpy as np\n",
        "import pandas as pd\n",
        "from sklearn.model_selection import train_test_split\n",
        "import matplotlib.pyplot as plt\n",
        "from sklearn.linear_model import LinearRegression\n"
      ],
      "execution_count": 2,
      "outputs": []
    },
    {
      "cell_type": "markdown",
      "metadata": {
        "id": "c6gir6nwPbj8"
      },
      "source": [
        "##Loading data from csv files into pandas data frames and converting into numpy arrays"
      ]
    },
    {
      "cell_type": "code",
      "metadata": {
        "id": "F59-CjEXUPni",
        "colab": {
          "base_uri": "https://localhost:8080/"
        },
        "outputId": "ab2cd6ea-1030-4d27-ef34-2b2f30d5d45f"
      },
      "source": [
        "path = '/content/drive/MyDrive/IDS/data_CHEMBL204.csv'\n",
        "#getting list of columns\n",
        "cols = list(pd.read_csv(path, nrows =1))\n",
        "read_file = pd.read_csv(r\"/content/drive/MyDrive/IDS/data_CHEMBL204.csv\")\n",
        "#storing arrays of labels and features separately using column headers\n",
        "#X = pd.read_csv(path, usecols =[i for i in cols if (i != 'molecule_id' and i != 'pXC50')])\n",
        "#Y = pd.read_csv(path, usecols = ['pXC50'])\n",
        "X = read_file.drop(['pXC50','molecule_id'],axis=1)\n",
        "Y = read_file['pXC50']\n",
        "print(X)\n",
        "print(Y)\n",
        "#converting into numpy arrays\n",
        "x = np.asarray(X)\n",
        "y = np.asarray(Y)\n",
        "print(x)"
      ],
      "execution_count": 31,
      "outputs": [
        {
          "output_type": "stream",
          "text": [
            "      b0001  b0002  b0003  b0004  b0005  ...  b1020  b1021  b1022  b1023  b1024\n",
            "0         1      1      1      0      1  ...      0      1      0      0      0\n",
            "1         1      1      1      1      1  ...      0      1      0      0      0\n",
            "2         1      1      1      1      1  ...      0      0      0      0      0\n",
            "3         1      1      1      0      1  ...      0      0      0      0      0\n",
            "4         1      1      1      1      1  ...      0      0      0      0      0\n",
            "...     ...    ...    ...    ...    ...  ...    ...    ...    ...    ...    ...\n",
            "5737      1      0      1      0      1  ...      0      0      0      0      0\n",
            "5738      1      0      1      0      1  ...      0      0      0      0      0\n",
            "5739      1      1      1      1      1  ...      0      1      0      0      1\n",
            "5740      1      0      1      1      1  ...      0      0      0      0      1\n",
            "5741      1      0      1      1      1  ...      0      0      0      0      0\n",
            "\n",
            "[5742 rows x 1024 columns]\n",
            "0       5.000\n",
            "1       5.000\n",
            "2       9.620\n",
            "3       6.522\n",
            "4       7.796\n",
            "        ...  \n",
            "5737    5.538\n",
            "5738    8.222\n",
            "5739    6.174\n",
            "5740    7.119\n",
            "5741    4.509\n",
            "Name: pXC50, Length: 5742, dtype: float64\n",
            "[[1 1 1 ... 0 0 0]\n",
            " [1 1 1 ... 0 0 0]\n",
            " [1 1 1 ... 0 0 0]\n",
            " ...\n",
            " [1 1 1 ... 0 0 1]\n",
            " [1 0 1 ... 0 0 1]\n",
            " [1 0 1 ... 0 0 0]]\n"
          ],
          "name": "stdout"
        }
      ]
    },
    {
      "cell_type": "markdown",
      "metadata": {
        "id": "rWtGPUV2PkE1"
      },
      "source": [
        "##Performing Test-Train Split"
      ]
    },
    {
      "cell_type": "code",
      "metadata": {
        "id": "blRyeiJ8UUk6"
      },
      "source": [
        "#performing train and test split with a 0.75:0.25 ratio\n",
        "X_train, X_test, y_train, y_test = train_test_split(x, y, test_size=0.3)"
      ],
      "execution_count": 32,
      "outputs": []
    },
    {
      "cell_type": "markdown",
      "metadata": {
        "id": "wRZLHxuTPnso"
      },
      "source": [
        "##Implementing Regular (Non-PCA) Linear Regression"
      ]
    },
    {
      "cell_type": "code",
      "metadata": {
        "colab": {
          "base_uri": "https://localhost:8080/"
        },
        "id": "m3OoidOq8lGt",
        "outputId": "490b3e8b-9584-42c1-b534-4d9de6a820a1"
      },
      "source": [
        "#creating linear regression object via sklearn\n",
        "linearRegressor = LinearRegression()\n",
        "#fitting the linear regression model to our data\n",
        "linearRegressor.fit(X_train, y_train)\n",
        "print('Accuracy Score: ', linearRegressor.score(X_train, y_train))\n",
        "#predicting test data on our linear regressor\n",
        "y_pred = linearRegressor.predict(X_test)\n",
        "print('Accuracy Score: ', linearRegressor.score(X_test, y_test))"
      ],
      "execution_count": 33,
      "outputs": [
        {
          "output_type": "stream",
          "text": [
            "Accuracy Score:  0.7887319112235311\n",
            "Accuracy Score:  -3.5036626928028623e+19\n"
          ],
          "name": "stdout"
        }
      ]
    },
    {
      "cell_type": "code",
      "metadata": {
        "colab": {
          "base_uri": "https://localhost:8080/"
        },
        "id": "eS4eqUFZ-c2b",
        "outputId": "b1d4c751-b64d-4e6a-d63e-1de6b84994ff"
      },
      "source": [
        "#generating metrics for our model\n",
        "from sklearn import metrics\n",
        "print('Mean Absolute Error:', metrics.mean_absolute_error(y_test, y_pred))\n",
        "print('Mean Squared Error:', metrics.mean_squared_error(y_test, y_pred))\n",
        "print('Root Mean Squared Error:', np.sqrt(metrics.mean_squared_error(y_test, y_pred)))\n",
        "print(f\"The R_square of prediction of (RF): {metrics.r2_score(y_test, y_pred)}\")"
      ],
      "execution_count": 34,
      "outputs": [
        {
          "output_type": "stream",
          "text": [
            "Mean Absolute Error: 517359547.76322085\n",
            "Mean Squared Error: 8.679927641614264e+19\n",
            "Root Mean Squared Error: 9316612926.173473\n",
            "The R_square of prediction of (RF): -3.5036626928028623e+19\n"
          ],
          "name": "stdout"
        }
      ]
    },
    {
      "cell_type": "markdown",
      "metadata": {
        "id": "ACjCtedtPvoA"
      },
      "source": [
        "##Applying PCA on Training Data"
      ]
    },
    {
      "cell_type": "code",
      "metadata": {
        "colab": {
          "base_uri": "https://localhost:8080/"
        },
        "id": "cGXhLwCt85v6",
        "outputId": "18cd8a10-d487-49ca-d971-4e3fe131ff8a"
      },
      "source": [
        "from sklearn.preprocessing import StandardScaler\n",
        "from sklearn.decomposition import PCA\n",
        "\n",
        "X_train_new = X_train\n",
        "\n",
        "# Apply PCA on the data\n",
        "\n",
        "# initialize for 2D PCA\n",
        "pca = PCA(n_components = 10)\n",
        "pca.fit(X_train_new)\n",
        "\n",
        "# transform\n",
        "pca_X = pca.transform(X_train_new)\n",
        "pca_X.shape"
      ],
      "execution_count": 35,
      "outputs": [
        {
          "output_type": "execute_result",
          "data": {
            "text/plain": [
              "(4019, 10)"
            ]
          },
          "metadata": {
            "tags": []
          },
          "execution_count": 35
        }
      ]
    },
    {
      "cell_type": "markdown",
      "metadata": {
        "id": "T1MrkaeCP3Mj"
      },
      "source": [
        "##Applying PCA on Testing Data"
      ]
    },
    {
      "cell_type": "code",
      "metadata": {
        "colab": {
          "base_uri": "https://localhost:8080/"
        },
        "id": "GlOBC-1rB6Sa",
        "outputId": "60d29a81-9cb3-4200-c0e3-8f39b152b9d4"
      },
      "source": [
        "X_test_new = X_test\n",
        "\n",
        "# Apply PCA on the testing data\n",
        "\n",
        "# initialize for 10D PCA\n",
        "pca = PCA(n_components = 10)\n",
        "pca.fit(X_test_new)\n",
        "\n",
        "# transform\n",
        "pca_X_test = pca.transform(X_test_new)\n",
        "pca_X_test.shape"
      ],
      "execution_count": 36,
      "outputs": [
        {
          "output_type": "execute_result",
          "data": {
            "text/plain": [
              "(1723, 10)"
            ]
          },
          "metadata": {
            "tags": []
          },
          "execution_count": 36
        }
      ]
    },
    {
      "cell_type": "markdown",
      "metadata": {
        "id": "EmKMzTB3P7bC"
      },
      "source": [
        "##Linear Regression on PCA Data"
      ]
    },
    {
      "cell_type": "code",
      "metadata": {
        "colab": {
          "base_uri": "https://localhost:8080/"
        },
        "id": "Jz4AUXRyBlxD",
        "outputId": "bd7c399a-d823-437d-9c16-605571a17514"
      },
      "source": [
        "#creating linear regression object via sklearn\n",
        "linearRegressor = LinearRegression()\n",
        "#fitting the linear regression model to our data\n",
        "linearRegressor.fit(pca_X, y_train)\n",
        "print('Accuracy Score: ', linearRegressor.score(pca_X, y_train))\n",
        "#predicting test data on our linear regressor\n",
        "y_pred_pca = linearRegressor.predict(pca_X_test)\n",
        "print('Accuracy Score: ', linearRegressor.score(pca_X_test, y_test))"
      ],
      "execution_count": 37,
      "outputs": [
        {
          "output_type": "stream",
          "text": [
            "Accuracy Score:  0.23007336654208754\n",
            "Accuracy Score:  0.18572103838723664\n"
          ],
          "name": "stdout"
        }
      ]
    },
    {
      "cell_type": "code",
      "metadata": {
        "colab": {
          "base_uri": "https://localhost:8080/"
        },
        "id": "9edtlZAhFffG",
        "outputId": "c655d8fc-7d78-4643-c445-c6cb16600c47"
      },
      "source": [
        "#obtaining comparison metrics for this model\n",
        "print('Mean Absolute Error:', metrics.mean_absolute_error(y_test, y_pred_pca))\n",
        "print('Mean Squared Error:', metrics.mean_squared_error(y_test, y_pred_pca))\n",
        "print('Root Mean Squared Error:', np.sqrt(metrics.mean_squared_error(y_test, y_pred_pca)))\n",
        "print(f\"The R_square of prediction of (RF): {metrics.r2_score(y_test, y_pred_pca)}\")"
      ],
      "execution_count": 38,
      "outputs": [
        {
          "output_type": "stream",
          "text": [
            "Mean Absolute Error: 1.1200032634558366\n",
            "Mean Squared Error: 2.017283935866959\n",
            "Root Mean Squared Error: 1.4203112109206768\n",
            "The R_square of prediction of (RF): 0.18572103838723664\n"
          ],
          "name": "stdout"
        }
      ]
    },
    {
      "cell_type": "markdown",
      "metadata": {
        "id": "gtnQz4W-OB2C"
      },
      "source": [
        "## Visualizing Metrics between PCA and Non-PCA Models"
      ]
    },
    {
      "cell_type": "code",
      "metadata": {
        "colab": {
          "base_uri": "https://localhost:8080/",
          "height": 549
        },
        "id": "_3nD43qhGiAU",
        "outputId": "5e0d59a4-760e-40e1-d326-e52c1a3e6b92"
      },
      "source": [
        "import matplotlib.pyplot as plt\n",
        "\n",
        "#Bar graph axis initialization\n",
        "#creating plot x-axis\n",
        "x_axis = ['MAE', 'MSE', 'RMSE', 'RF']\n",
        "\n",
        "#creating y points for both pca and non-pca models\n",
        "nonpca_labels = [metrics.mean_absolute_error(y_test, y_pred), metrics.mean_squared_error(y_test, y_pred), np.sqrt(metrics.mean_squared_error(y_test, y_pred)), metrics.r2_score(y_test, y_pred)]\n",
        "#normalizing pca metrics because of their extremely small values\n",
        "pca_labels = [metrics.mean_absolute_error(y_test, y_pred_pca)*1e19, metrics.mean_squared_error(y_test, y_pred_pca)*1e19, np.sqrt(metrics.mean_squared_error(y_test, y_pred_pca))*1e19, metrics.r2_score(y_test, y_pred_pca)*1e19]\n",
        "\n",
        "#creating the plot\n",
        "N = 4\n",
        "ind = np.arange(N)  \n",
        "width = 0.25 \n",
        "\n",
        "fig = plt.figure()\n",
        "ax = fig.add_subplot(111)\n",
        "\n",
        "rects1 = ax.bar(ind, nonpca_labels, width, color='b')\n",
        "rects2 = ax.bar(ind+width, pca_labels, width, color='g')\n",
        "\n",
        "ax.set_ylabel('Scores')\n",
        "ax.set_xticks(ind+width)\n",
        "ax.set_xticklabels( ('MAE', 'MSE', 'RMSE', 'RF') )\n",
        "ax.legend( (rects1[0], rects2[0]), ('nonpca', 'pca x 1e24') )\n",
        "plt.show()\n",
        "\n",
        "\n",
        "#creating line chart for metrics\n",
        "plt.plot(x_axis,nonpca_labels, label = \"nonpca\")\n",
        "plt.plot(x_axis,pca_labels, label = \"pca x 1e24\")\n",
        "plt.xlabel('Metrics')\n",
        "plt.ylabel('Values')\n",
        "plt.legend()\n",
        "plt.show()\n"
      ],
      "execution_count": 40,
      "outputs": [
        {
          "output_type": "display_data",
          "data": {
            "image/png": "[encoded data removed]",
            "text/plain": [
              "<Figure size 432x288 with 1 Axes>"
            ]
          },
          "metadata": {
            "tags": [],
            "needs_background": "light"
          }
        },
        {
          "output_type": "display_data",
          "data": {
            "image/png": "[encoded data removed]",
            "text/plain": [
              "<Figure size 432x288 with 1 Axes>"
            ]
          },
          "metadata": {
            "tags": [],
            "needs_background": "light"
          }
        }
      ]
    },
    {
      "cell_type": "markdown",
      "metadata": {
        "id": "kyV17ipeWaMK"
      },
      "source": [
        "##Installing sklearn's GA Library"
      ]
    },
    {
      "cell_type": "code",
      "metadata": {
        "colab": {
          "base_uri": "https://localhost:8080/"
        },
        "id": "aZMf6UxwTDNu",
        "outputId": "2896d004-2731-4154-c235-dfa723264278"
      },
      "source": [
        "pip install sklearn-genetic"
      ],
      "execution_count": 16,
      "outputs": [
        {
          "output_type": "stream",
          "text": [
            "Collecting sklearn-genetic\n",
            "  Downloading https://files.pythonhosted.org/packages/3c/3b/8e384e1cab48a451c43fcaa2f2120dd6e8d2581e33e118a23a27de14267d/sklearn_genetic-0.4.1-py2.py3-none-any.whl\n",
            "Collecting deap>=1.0.2\n",
            "\u001b[?25l  Downloading https://files.pythonhosted.org/packages/99/d1/803c7a387d8a7e6866160b1541307f88d534da4291572fb32f69d2548afb/deap-1.3.1-cp37-cp37m-manylinux2010_x86_64.whl (157kB)\n",
            "\r\u001b[K     |██                              | 10kB 22.0MB/s eta 0:00:01\r\u001b[K     |████▏                           | 20kB 27.4MB/s eta 0:00:01\r\u001b[K     |██████▏                         | 30kB 32.5MB/s eta 0:00:01\r\u001b[K     |████████▎                       | 40kB 34.5MB/s eta 0:00:01\r\u001b[K     |██████████▍                     | 51kB 36.3MB/s eta 0:00:01\r\u001b[K     |████████████▍                   | 61kB 37.7MB/s eta 0:00:01\r\u001b[K     |██████████████▌                 | 71kB 29.3MB/s eta 0:00:01\r\u001b[K     |████████████████▋               | 81kB 25.7MB/s eta 0:00:01\r\u001b[K     |██████████████████▋             | 92kB 24.6MB/s eta 0:00:01\r\u001b[K     |████████████████████▊           | 102kB 26.1MB/s eta 0:00:01\r\u001b[K     |██████████████████████▉         | 112kB 26.1MB/s eta 0:00:01\r\u001b[K     |████████████████████████▉       | 122kB 26.1MB/s eta 0:00:01\r\u001b[K     |███████████████████████████     | 133kB 26.1MB/s eta 0:00:01\r\u001b[K     |█████████████████████████████   | 143kB 26.1MB/s eta 0:00:01\r\u001b[K     |███████████████████████████████ | 153kB 26.1MB/s eta 0:00:01\r\u001b[K     |████████████████████████████████| 163kB 26.1MB/s \n",
            "\u001b[?25hRequirement already satisfied: scikit-learn>=0.20.3 in /usr/local/lib/python3.7/dist-packages (from sklearn-genetic) (0.22.2.post1)\n",
            "Requirement already satisfied: numpy in /usr/local/lib/python3.7/dist-packages (from deap>=1.0.2->sklearn-genetic) (1.19.5)\n",
            "Requirement already satisfied: joblib>=0.11 in /usr/local/lib/python3.7/dist-packages (from scikit-learn>=0.20.3->sklearn-genetic) (1.0.1)\n",
            "Requirement already satisfied: scipy>=0.17.0 in /usr/local/lib/python3.7/dist-packages (from scikit-learn>=0.20.3->sklearn-genetic) (1.4.1)\n",
            "Installing collected packages: deap, sklearn-genetic\n",
            "Successfully installed deap-1.3.1 sklearn-genetic-0.4.1\n"
          ],
          "name": "stdout"
        }
      ]
    },
    {
      "cell_type": "markdown",
      "metadata": {
        "id": "GG3rXi9OWohU"
      },
      "source": [
        "##Applying GA to Linear Regression Model"
      ]
    },
    {
      "cell_type": "code",
      "metadata": {
        "id": "WhODfpHcUakX",
        "colab": {
          "base_uri": "https://localhost:8080/"
        },
        "outputId": "302e958c-e40c-4f50-9042-8a409403dcaf"
      },
      "source": [
        "import numpy as np\n",
        "from sklearn import datasets, linear_model\n",
        "from genetic_selection import GeneticSelectionCV\n",
        "\n",
        "# initialize the estimator\n",
        "estimator = LinearRegression()\n",
        "\n",
        "# initialize the selector\n",
        "selector = GeneticSelectionCV(estimator,\n",
        "                              cv=5,\n",
        "                              verbose=1,\n",
        "                              max_features=5,\n",
        "                              n_population=50,\n",
        "                              crossover_proba=0.5,\n",
        "                              mutation_proba=0.2,\n",
        "                              n_generations=40,\n",
        "                              crossover_independent_proba=0.5,\n",
        "                              mutation_independent_proba=0.05,\n",
        "                              tournament_size=3,\n",
        "                              n_gen_no_change=10,\n",
        "                              caching=True,\n",
        "                              n_jobs=-1)\n",
        "\n",
        "\n",
        "X_train_ga = selector.fit_transform(X_train, y_train)\n",
        "X_test_ga = selector.fit_transform(X_test, y_test)\n"
      ],
      "execution_count": 45,
      "outputs": [
        {
          "output_type": "stream",
          "text": [
            "Selecting features with genetic algorithm.\n",
            "gen\tnevals\tavg                    \tstd                    \tmin                  \tmax                    \n",
            "0  \t50    \t[0.01299459 2.86      ]\t[0.02698802 1.41435498]\t[-0.003984  1.      ]\t[0.10390754 5.        ]\n",
            "1  \t30    \t[-2799.97936645    15.98      ]\t[4490.00173151   22.69228063]\t[-1.e+04  1.e+00]    \t[ 0.10390754 65.        ]\n",
            "2  \t25    \t[-1999.96753718     7.38      ]\t[4000.01623155   12.64735545]\t[-10000.      0.]    \t[ 0.11980133 60.        ]\n",
            "3  \t25    \t[-2399.94627721    13.62      ]\t[4270.86149056   20.86805214]\t[-1.e+04  1.e+00]    \t[ 0.13067365 68.        ]\n",
            "4  \t37    \t[-2799.93409708    13.7       ]\t[4490.02996196   20.18737229]\t[-10000.      0.]    \t[ 0.15969367 55.        ]\n",
            "5  \t27    \t[-2599.91079242    16.2       ]\t[4386.39531767   23.5915239 ]\t[-1.e+04  2.e+00]    \t[ 0.16143415 93.        ]\n",
            "6  \t28    \t[-1799.88457696    12.5       ]\t[3841.92862065   19.65731416]\t[-1.e+04  2.e+00]    \t[ 0.17988483 63.        ]\n",
            "7  \t31    \t[-2399.88364276    16.4       ]\t[4270.89668796   22.96519105]\t[-1.e+04  2.e+00]    \t[ 0.18215586 62.        ]\n",
            "8  \t23    \t[-1599.86323188    12.04      ]\t[3666.12024648   19.5744323 ]\t[-1.e+04  2.e+00]    \t[ 0.18746069 67.        ]\n",
            "9  \t18    \t[-1999.86204308    12.42      ]\t[4000.06897849   17.37134422]\t[-1.e+04  3.e+00]    \t[ 0.22983048 54.        ]\n",
            "10 \t38    \t[-2199.85753444    14.4       ]\t[4142.53869679   19.88667896]\t[-1.e+04  3.e+00]    \t[ 0.22983048 62.        ]\n",
            "11 \t23    \t[-1399.83266366    12.74      ]\t[3469.93783037   22.59452146]\t[-1.e+04  3.e+00]    \t[  0.22983048 102.        ]\n",
            "12 \t19    \t[-1399.82227509    11.86      ]\t[3469.94202188   19.14263305]\t[-1.e+04  3.e+00]    \t[ 0.22983048 66.        ]  \n",
            "13 \t28    \t[-2199.82585244    16.02      ]\t[4142.55552262   22.36022361]\t[-1.e+04  3.e+00]    \t[ 0.23806703 67.        ]  \n",
            "14 \t34    \t[-1999.81717062    12.84      ]\t[4000.0914147    18.03813738]\t[-1.e+04  3.e+00]    \t[ 0.23806703 59.        ]  \n",
            "15 \t21    \t[-1799.81156466    12.6       ]\t[3841.96282844   18.98315042]\t[-1.e+04  3.e+00]    \t[ 0.23806703 68.        ]  \n",
            "16 \t28    \t[-1199.7941251    10.12     ]  \t[3249.6913862    15.41640684]\t[-1.e+04  4.e+00]    \t[ 0.23806703 60.        ]  \n",
            "17 \t26    \t[-1999.81037003    14.84      ]\t[4000.09481499   20.05528359]\t[-1.e+04  4.e+00]    \t[ 0.23806703 66.        ]  \n",
            "18 \t29    \t[-1399.79542708    11.66      ]\t[3469.95285429   16.67166458]\t[-1.e+04  4.e+00]    \t[ 0.23806703 61.        ]  \n",
            "19 \t35    \t[-2799.82859174    20.1       ]\t[4490.09575596   24.4354251 ]\t[-1.e+04  5.e+00]    \t[ 0.23806703 72.        ]  \n",
            "20 \t32    \t[-1399.79526235    11.86      ]\t[3469.95292075   17.30087859]\t[-1.e+04  5.e+00]    \t[ 0.23806703 73.        ]  \n",
            "21 \t32    \t[-1599.80002369    13.02      ]\t[3666.14783278   18.4980972 ]\t[-1.e+04  5.e+00]    \t[ 0.23806703 64.        ]  \n",
            "22 \t30    \t[-2399.81906905    17.48      ]\t[4270.93297523   22.454612  ]\t[-1.e+04  5.e+00]    \t[ 0.23806703 70.        ]  \n",
            "23 \t25    \t[-1599.80002369    13.62      ]\t[3666.14783278   20.10063681]\t[-1.e+04  5.e+00]    \t[ 0.23806703 78.        ]  \n",
            "Selecting features with genetic algorithm.\n",
            "gen\tnevals\tavg                            \tstd                    \tmin                      \tmax                    \n",
            "0  \t50    \t[1.04155909e-03 2.90000000e+00]\t[0.01222607 1.55241747]\t[-0.01924924  1.        ]\t[0.04588681 5.        ]\n",
            "1  \t32    \t[-2799.99441909    15.92      ]\t[4489.99234446   21.69040341]\t[-1.e+04  1.e+00]        \t[4.58868066e-02 6.10000000e+01]\n",
            "2  \t33    \t[-3599.99022211    18.52      ]\t[4800.00733344   23.75898988]\t[-10000.      0.]        \t[4.63729719e-02 6.30000000e+01]\n",
            "3  \t30    \t[-3999.9874425    17.78     ]  \t[4898.98973874   22.88693077]\t[-10000.      0.]        \t[4.6890489e-02 7.0000000e+01]  \n",
            "4  \t29    \t[-2399.97733078     9.04      ]\t[4270.84403984   15.34791191]\t[-10000.      0.]        \t[6.38698747e-02 6.70000000e+01]\n",
            "5  \t27    \t[-1999.9687706    12.12     ]  \t[4000.01561473   19.23085022]\t[-1.e+04  1.e+00]        \t[ 0.07060713 68.        ]      \n",
            "6  \t30    \t[-3199.96904073    15.36      ]\t[4664.78275379   21.75937499]\t[-10000.      0.]        \t[ 0.09034284 74.        ]      \n",
            "7  \t33    \t[-3399.96417281    17.66      ]\t[4737.11342757   23.20742123]\t[-1.e+04  2.e+00]        \t[ 0.09034284 69.        ]      \n",
            "8  \t27    \t[-1599.94883428     9.9       ]\t[3666.08288654   15.34438008]\t[-1.e+04  2.e+00]        \t[ 0.09136691 58.        ]      \n",
            "9  \t24    \t[-1599.94351124    11.52      ]\t[3666.08520969   17.89775405]\t[-1.e+04  2.e+00]        \t[ 0.09136691 61.        ]      \n",
            "10 \t27    \t[-1399.93970134    10.26      ]\t[3469.8946435    17.55427014]\t[-1.e+04  1.e+00]        \t[ 0.10628156 63.        ]      \n",
            "11 \t28    \t[-1799.93666969    10.18      ]\t[3841.90421408   17.00551675]\t[-1.e+04  3.e+00]        \t[ 0.10666004 65.        ]      \n",
            "12 \t30    \t[-2199.93086265    14.46      ]\t[4142.49975328   20.77518712]\t[-1.e+04  1.e+00]        \t[ 0.11004981 66.        ]      \n",
            "13 \t16    \t[-999.91200626    9.1       ]  \t[3000.02933125   15.74706322]\t[-1.e+04  3.e+00]        \t[ 0.11004981 59.        ]      \n",
            "14 \t27    \t[-2399.92218279    15.4       ]\t[4270.87503031   20.90071769]\t[-1.e+04  3.e+00]        \t[ 0.11532989 66.        ]      \n",
            "15 \t30    \t[-3599.93213081    21.08      ]\t[4800.05090189   24.08554753]\t[-1.e+04  3.e+00]        \t[ 0.11532989 66.        ]      \n",
            "16 \t29    \t[-2399.91765657    14.62      ]\t[4270.87757383   19.62640059]\t[-1.e+04  4.e+00]        \t[ 0.11532989 63.        ]      \n",
            "17 \t25    \t[-3399.92705491    14.3       ]\t[4737.14006858   20.15465207]\t[-1.e+04  4.e+00]        \t[ 0.11532989 73.        ]      \n",
            "18 \t30    \t[-999.89925266    6.7       ]  \t[3000.03358245    8.90673902]\t[-1.e+04  4.e+00]        \t[ 0.11532989 55.        ]      \n",
            "19 \t29    \t[-1999.90842899    11.66      ]\t[4000.04578551   16.71838509]\t[-1.e+04  4.e+00]        \t[ 0.11532989 60.        ]      \n",
            "20 \t27    \t[-2199.9104403    15.08     ]  \t[4142.51059925   19.24561249]\t[-1.e+04  4.e+00]        \t[ 0.11532989 64.        ]      \n",
            "21 \t33    \t[-2199.91004268    16.28      ]\t[4142.51081042   21.5249065 ]\t[-1.e+04  5.e+00]        \t[ 0.11532989 67.        ]      \n",
            "22 \t25    \t[-1599.90312289    13.46      ]\t[3666.1028366    20.86452492]\t[-1.e+04  5.e+00]        \t[ 0.11532989 88.        ]      \n",
            "23 \t30    \t[-2199.91004268    16.44      ]\t[4142.51081042   22.14060523]\t[-1.e+04  5.e+00]        \t[ 0.11532989 71.        ]      \n",
            "24 \t36    \t[-2399.91234928    17.32      ]\t[4270.88055627   22.17335338]\t[-1.e+04  5.e+00]        \t[ 0.11532989 69.        ]      \n"
          ],
          "name": "stdout"
        }
      ]
    },
    {
      "cell_type": "markdown",
      "metadata": {
        "id": "DgG9I-P_cbgY"
      },
      "source": [
        "##Linear Regression with GA"
      ]
    },
    {
      "cell_type": "code",
      "metadata": {
        "colab": {
          "base_uri": "https://localhost:8080/"
        },
        "id": "IRSiXb1Qej8f",
        "outputId": "3dff3596-3383-413e-e375-8d23b7a2972a"
      },
      "source": [
        "X_train_ga.shape\n",
        "X_test_ga.shape"
      ],
      "execution_count": 46,
      "outputs": [
        {
          "output_type": "execute_result",
          "data": {
            "text/plain": [
              "(1723, 5)"
            ]
          },
          "metadata": {
            "tags": []
          },
          "execution_count": 46
        }
      ]
    },
    {
      "cell_type": "code",
      "metadata": {
        "colab": {
          "base_uri": "https://localhost:8080/"
        },
        "id": "Rp8Q1BSHb6Mj",
        "outputId": "ea245aef-aa8c-4c9e-f207-29422215b7cf"
      },
      "source": [
        "#creating linear regression object via sklearn\n",
        "linearRegressor = LinearRegression()\n",
        "#fitting the GA data to linear regression model\n",
        "linearRegressor.fit(X_train_ga, y_train)\n",
        "print('Training Accuracy Score: ', linearRegressor.score(X_train_ga, y_train))\n",
        "#predicting test data on our linear regressor\n",
        "y_pred_ga = linearRegressor.predict(X_test_ga)\n",
        "print('Testing Accuracy Score: ', linearRegressor.score(X_test_ga, y_test))\n"
      ],
      "execution_count": 47,
      "outputs": [
        {
          "output_type": "stream",
          "text": [
            "Training Accuracy Score:  0.2423712004186258\n",
            "Testing Accuracy Score:  -0.4282815767974908\n"
          ],
          "name": "stdout"
        }
      ]
    },
    {
      "cell_type": "code",
      "metadata": {
        "colab": {
          "base_uri": "https://localhost:8080/"
        },
        "id": "baEGA1oZV3NK",
        "outputId": "f52e7ab6-bee7-492b-a8c1-f68f7ffd13b2"
      },
      "source": [
        "#obtaining comparison metrics for this model\n",
        "print('Mean Absolute Error:', metrics.mean_absolute_error(y_test, y_pred_ga))\n",
        "print('Mean Squared Error:', metrics.mean_squared_error(y_test, y_pred_ga))\n",
        "print('Root Mean Squared Error:', np.sqrt(metrics.mean_squared_error(y_test, y_pred_ga)))\n",
        "print(f\"The R_square of prediction of (RF): {metrics.r2_score(y_test, y_pred_ga)}\")"
      ],
      "execution_count": 48,
      "outputs": [
        {
          "output_type": "stream",
          "text": [
            "Mean Absolute Error: 1.4771782677212422\n",
            "Mean Squared Error: 3.53840589846715\n",
            "Root Mean Squared Error: 1.8810650968180633\n",
            "The R_square of prediction of (RF): -0.4282815767974908\n"
          ],
          "name": "stdout"
        }
      ]
    },
    {
      "cell_type": "markdown",
      "metadata": {
        "id": "f260JJgncfGO"
      },
      "source": [
        "##Visualizing Normal vs PCA vs GA Metrics"
      ]
    },
    {
      "cell_type": "code",
      "metadata": {
        "colab": {
          "base_uri": "https://localhost:8080/",
          "height": 549
        },
        "id": "hw-Oh5_fcmh9",
        "outputId": "e6d3d65e-ae43-450b-8e6c-0ee91efde23b"
      },
      "source": [
        "#Bar graph axis initialization\n",
        "#creating plot x-axis\n",
        "x_axis = ['MAE', 'MSE', 'RMSE', 'RF']\n",
        "\n",
        "#creating y points normal predictions\n",
        "nonga_labels = [metrics.mean_absolute_error(y_test, y_pred), metrics.mean_squared_error(y_test, y_pred), np.sqrt(metrics.mean_squared_error(y_test, y_pred)), metrics.r2_score(y_test, y_pred)]\n",
        "#normalizing ga metrics because of their extremely small values\n",
        "ga_labels = [metrics.mean_absolute_error(y_test, y_pred_ga)*1e19, metrics.mean_squared_error(y_test, y_pred_ga)*1e19, np.sqrt(metrics.mean_squared_error(y_test, y_pred_ga))*1e19, metrics.r2_score(y_test, y_pred_ga)*1e19]\n",
        "#normalizing pca metrics because of their extremely small values\n",
        "pca_labels = [metrics.mean_absolute_error(y_test, y_pred_pca)*1e19, metrics.mean_squared_error(y_test, y_pred_pca)*1e19, np.sqrt(metrics.mean_squared_error(y_test, y_pred_pca))*1e19, metrics.r2_score(y_test, y_pred_pca)*1e19]\n",
        "\n",
        "#creating the plot\n",
        "N = 4\n",
        "ind = np.arange(N)  \n",
        "width = 0.25 \n",
        "\n",
        "fig = plt.figure()\n",
        "ax = fig.add_subplot(111)\n",
        "\n",
        "ind1 = np.arange(len(nonga_labels))\n",
        "ind2 = [x+0.25 for x in ind1]\n",
        "ind3 = [x+0.25 for x in ind2]\n",
        "\n",
        "rects1 = ax.bar(ind1, nonga_labels, width, color='b')\n",
        "rects2 = ax.bar(ind2, ga_labels, width, color='g')\n",
        "rects3 = ax.bar(ind3, pca_labels, width, color = 'r')\n",
        "\n",
        "ax.set_ylabel('Scores')\n",
        "ax.set_xticks(ind+width)\n",
        "ax.set_xticklabels( ('MAE', 'MSE', 'RMSE', 'RF') )\n",
        "ax.legend( (rects1[0], rects2[0] ,rects3[0]), ('Normal', 'GA x 1e19', 'PCA x 1e19') )\n",
        "plt.show()\n",
        "\n",
        "\n",
        "#creating line chart for metrics\n",
        "plt.plot(x_axis,nonpca_labels, label = \"normal\")\n",
        "plt.plot(x_axis,pca_labels, label = \"ga x 1e19\")\n",
        "plt.plot(x_axis, ga_labels, label = \"pca x 1e19\")\n",
        "plt.xlabel('Metrics')\n",
        "plt.ylabel('Values')\n",
        "plt.legend()\n",
        "plt.show()"
      ],
      "execution_count": 57,
      "outputs": [
        {
          "output_type": "display_data",
          "data": {
            "image/png": "[encoded data removed]",
            "text/plain": [
              "<Figure size 432x288 with 1 Axes>"
            ]
          },
          "metadata": {
            "tags": [],
            "needs_background": "light"
          }
        },
        {
          "output_type": "display_data",
          "data": {
            "image/png": "[encoded data removed]",
            "text/plain": [
              "<Figure size 432x288 with 1 Axes>"
            ]
          },
          "metadata": {
            "tags": [],
            "needs_background": "light"
          }
        }
      ]
    }
  ]
}